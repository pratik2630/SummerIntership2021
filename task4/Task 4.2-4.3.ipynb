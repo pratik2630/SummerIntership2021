{
 "cells": [
  {
   "cell_type": "markdown",
   "metadata": {},
   "source": [
    "# Code divided into pieces for better understanding"
   ]
  },
  {
   "cell_type": "code",
   "execution_count": 1,
   "metadata": {},
   "outputs": [],
   "source": [
    "#🔅 Task 4.2\n",
    "#📌 Take 2 image crop some part of both image and swap it. \n",
    "\n",
    "#🔅 Task 4.3\n",
    "#📌 Take 2 image and combine it to form single image. For example collage "
   ]
  },
  {
   "cell_type": "code",
   "execution_count": 2,
   "metadata": {},
   "outputs": [],
   "source": [
    "import cv2 ,numpy\n",
    "\n",
    "#original cat image\n",
    "photo1 = cv2.imread(\"cat.jpg\")\n",
    "#resized it for ease of use\n",
    "photo1 = cv2.resize(photo1 , ( 400 ,400 ))\n",
    "cv2.imshow(\"Img1\",photo1)\n",
    "if cv2.waitKey() == 13:\n",
    "    pass\n",
    "cv2.destroyAllWindows() "
   ]
  },
  {
   "cell_type": "code",
   "execution_count": 3,
   "metadata": {},
   "outputs": [],
   "source": [
    "#original tigers image\n",
    "photo2 = cv2.imread(\"tiger.jpg\")\n",
    "photo2 = cv2.resize(photo2 , ( 400 ,400 ))\n",
    "\n",
    "\n",
    "cv2.imshow(\"Img1\",photo2)\n",
    "if cv2.waitKey() == 13:\n",
    "    pass\n",
    "cv2.destroyAllWindows() "
   ]
  },
  {
   "cell_type": "code",
   "execution_count": 4,
   "metadata": {},
   "outputs": [],
   "source": [
    "#horizontaly added image\n",
    "himg1 = numpy.hstack((photo1 , photo2))\n",
    "cv2.imshow(\"Img1\",himg1)\n",
    "if cv2.waitKey() == 13:\n",
    "    pass\n",
    "cv2.destroyAllWindows() "
   ]
  },
  {
   "cell_type": "code",
   "execution_count": 5,
   "metadata": {},
   "outputs": [],
   "source": [
    "#verticaly added image\n",
    "vimg1 = numpy.vstack((photo1 , photo2))\n",
    "cv2.imshow(\"Img1\",vimg1)\n",
    "if cv2.waitKey() == 13:\n",
    "    pass\n",
    "cv2.destroyAllWindows() "
   ]
  },
  {
   "cell_type": "code",
   "execution_count": 6,
   "metadata": {},
   "outputs": [
    {
     "name": "stdout",
     "output_type": "stream",
     "text": [
      "(225, 230, 3)\n",
      "(270, 255, 3)\n"
     ]
    }
   ],
   "source": [
    "#croped cats's face\n",
    "cimg1 = photo1[45:270, 35:265 , : ]\n",
    "print(cimg1.shape)\n",
    "cimg1 = cv2.resize(cimg1 , (255 , 270  ))\n",
    "cv2.imshow(\"Img1\",cimg1)\n",
    "if cv2.waitKey() == 13:\n",
    "    pass\n",
    "cv2.destroyAllWindows() \n",
    "\n",
    "print(cimg1.shape)"
   ]
  },
  {
   "cell_type": "code",
   "execution_count": null,
   "metadata": {},
   "outputs": [],
   "source": [
    "#croped tigers's face\n",
    "cimg2 = photo2[40:310, 90:345 , : ]\n",
    "print(cimg2.shape)\n",
    "cimg2 = cv2.resize(cimg2 , (230, 225  ))\n",
    "cv2.imshow(\"Img1\",cimg2)\n",
    "if cv2.waitKey() == 13:\n",
    "    pass\n",
    "cv2.destroyAllWindows() \n",
    "print(cimg2.shape)"
   ]
  },
  {
   "cell_type": "code",
   "execution_count": null,
   "metadata": {},
   "outputs": [],
   "source": [
    "#put tigers face on cat's face\n",
    "finalimg1 = photo1\n",
    "finalimg1[45:270, 35:265 , : ]= cimg2[:,:,:]\n",
    " \n",
    "cv2.imshow(\"Img1\",finalimg1)\n",
    "if cv2.waitKey() == 13:\n",
    "    pass\n",
    "cv2.destroyAllWindows() \n",
    "\n",
    "cv2.destroyAllWindows() "
   ]
  },
  {
   "cell_type": "code",
   "execution_count": null,
   "metadata": {},
   "outputs": [],
   "source": [
    "#put tigers face on cat's face\n",
    "finalimg2 = photo2\n",
    "finalimg2[40:310, 90:345 , : ]= cimg1[:,:,:]\n",
    "\n",
    "cv2.imshow(\"Img1\",finalimg2)\n",
    "if cv2.waitKey() == 13:\n",
    "    pass\n",
    "cv2.destroyAllWindows() "
   ]
  },
  {
   "cell_type": "code",
   "execution_count": null,
   "metadata": {},
   "outputs": [],
   "source": [
    "himg2 = numpy.hstack(( finalimg1 , finalimg2 ))\n",
    "cv2.imshow(\"Img1\",himg2)\n",
    "if cv2.waitKey() == 13:\n",
    "    pass\n",
    "cv2.destroyAllWindows() "
   ]
  },
  {
   "cell_type": "code",
   "execution_count": null,
   "metadata": {},
   "outputs": [],
   "source": [
    "vimg = numpy.vstack((himg1,himg2))\n",
    "cv2.imshow(\"Img1\",vimg)\n",
    "if cv2.waitKey() == 13:\n",
    "    pass\n",
    "cv2.destroyAllWindows() "
   ]
  },
  {
   "cell_type": "code",
   "execution_count": null,
   "metadata": {},
   "outputs": [],
   "source": []
  },
  {
   "cell_type": "code",
   "execution_count": null,
   "metadata": {},
   "outputs": [],
   "source": []
  },
  {
   "cell_type": "code",
   "execution_count": null,
   "metadata": {},
   "outputs": [],
   "source": []
  },
  {
   "cell_type": "markdown",
   "metadata": {},
   "source": [
    "\n",
    "# Final Code  "
   ]
  },
  {
   "cell_type": "code",
   "execution_count": 3,
   "metadata": {},
   "outputs": [
    {
     "name": "stdout",
     "output_type": "stream",
     "text": [
      "(270, 255, 3)\n"
     ]
    }
   ],
   "source": [
    "import cv2 , numpy\n",
    "#original cat image\n",
    "photo1 = cv2.imread(\"cat.jpg\")\n",
    "photo1 = cv2.resize(photo1 , ( 400 ,400 ))\n",
    "\n",
    "#original tigers image\n",
    "photo2 = cv2.imread(\"tiger.jpg\")\n",
    "photo2 = cv2.resize(photo2 , ( 400 ,400 ))\n",
    "\n",
    "#original cat image\n",
    "photo1 = cv2.imread(\"cat.jpg\")\n",
    "#resized it for ease of use\n",
    "photo1 = cv2.resize(photo1 , ( 400 ,400 ))\n",
    "cv2.imshow(\"Img1\",photo1)\n",
    "if cv2.waitKey() == 13:\n",
    "    pass\n",
    "cv2.destroyAllWindows() \n",
    "\n",
    "\n",
    "\n",
    "#original tigers image\n",
    "photo2 = cv2.imread(\"tiger.jpg\")\n",
    "photo2 = cv2.resize(photo2 , ( 400 ,400 ))\n",
    "cv2.imshow(\"Img1\",photo2)\n",
    "if cv2.waitKey() == 13:\n",
    "    pass\n",
    "cv2.destroyAllWindows() \n",
    "\n",
    "#verticaly added image\n",
    "vimg1 = numpy.vstack((photo1 , photo2))\n",
    "cv2.imshow(\"Img1\",vimg1)\n",
    "if cv2.waitKey() == 13:\n",
    "    pass\n",
    "cv2.destroyAllWindows() \n",
    "\n",
    "#horizontaly added image\n",
    "\n",
    "himg1 = numpy.hstack((photo1 , photo2))\n",
    "cv2.imshow(\"Img1\",himg1)\n",
    "if cv2.waitKey() == 13:\n",
    "    pass\n",
    "cv2.destroyAllWindows() \n",
    "\n",
    "\n",
    "\n",
    "#croped cat's face\n",
    "cimg1 = photo1[45:270, 35:265 , : ]\n",
    "cimg1 = cv2.resize(cimg1 , (255 , 270  ))\n",
    "\n",
    "\n",
    "#croped tigers's face\n",
    "cimg2 = photo2[40:310, 90:345 , : ]\n",
    "print(cimg2.shape)\n",
    "cimg2 = cv2.resize(cimg2 , (230, 225  ))\n",
    "\n",
    "#put tigers face on cat's face\n",
    "finalimg1 = photo1\n",
    "#finalimg2 = photo2\n",
    "#finalimg1[45:270, 35:265 , : ] , finalimg2[40:310, 90:345 , : ] = cimg2[:,:,:] , cimg1[:,:,:]\n",
    "finalimg1[45:270, 35:265 , : ]= cimg2[:,:,:]\n",
    "cv2.imshow(\"Img1\",finalimg1)\n",
    "if cv2.waitKey() == 13:\n",
    "    pass\n",
    "cv2.destroyAllWindows() \n",
    "\n",
    "\n",
    "#put tigers face on cat's face\n",
    "#finalimg2 = photo2\n",
    "#finalimg2[40:310, 90:345 , : ]= cimg1[:,:,:]\n",
    "cv2.imshow(\"Img1\",finalimg2)\n",
    "if cv2.waitKey() == 13:\n",
    "    pass\n",
    "cv2.destroyAllWindows() \n",
    "\n",
    "finalimg1[45:270, 35:265 , : ] , finalimg2[40:310, 90:345 , : ] = cimg2[:,:,:] , cimg1[:,:,:]\n",
    "\n",
    "himg2 = numpy.hstack(( finalimg1 , finalimg2 ))\n",
    "cv2.imshow(\"Img1\",himg2)\n",
    "if cv2.waitKey() == 13:\n",
    "    pass\n",
    "cv2.destroyAllWindows() \n",
    "\n",
    "vimg = numpy.vstack((himg1,himg2))\n",
    "cv2.imshow(\"Img1\",vimg)\n",
    "if cv2.waitKey() == 13:\n",
    "    pass\n",
    "cv2.destroyAllWindows() "
   ]
  },
  {
   "cell_type": "code",
   "execution_count": null,
   "metadata": {},
   "outputs": [],
   "source": []
  },
  {
   "cell_type": "code",
   "execution_count": 2,
   "metadata": {},
   "outputs": [],
   "source": [
    "finalimg1[45:270, 35:265 , : ] , finalimg2[40:310, 90:345 , : ] = cimg2[:,:,:] , cimg1[:,:,:]"
   ]
  },
  {
   "cell_type": "code",
   "execution_count": null,
   "metadata": {},
   "outputs": [],
   "source": []
  },
  {
   "cell_type": "code",
   "execution_count": null,
   "metadata": {},
   "outputs": [],
   "source": [
    "\n"
   ]
  }
 ],
 "metadata": {
  "kernelspec": {
   "display_name": "Python 3",
   "language": "python",
   "name": "python3"
  },
  "language_info": {
   "codemirror_mode": {
    "name": "ipython",
    "version": 3
   },
   "file_extension": ".py",
   "mimetype": "text/x-python",
   "name": "python",
   "nbconvert_exporter": "python",
   "pygments_lexer": "ipython3",
   "version": "3.8.3"
  }
 },
 "nbformat": 4,
 "nbformat_minor": 4
}
