{
 "cells": [
  {
   "cell_type": "code",
   "execution_count": 1,
   "metadata": {},
   "outputs": [],
   "source": [
    "#🔅 Task 4.1\n",
    "#📌 Create image by yourself Using Python Code "
   ]
  },
  {
   "cell_type": "code",
   "execution_count": 2,
   "metadata": {},
   "outputs": [],
   "source": [
    "import cv2 , numpy"
   ]
  },
  {
   "cell_type": "code",
   "execution_count": 3,
   "metadata": {},
   "outputs": [],
   "source": [
    "img = numpy.zeros((700,700,3))\n",
    "img = cv2.rectangle(img , (150,150),(300,300),[0,255,0],5)\n",
    "img = cv2.rectangle(img , (190,190),(260,260),[0,255,0],5)\n",
    "img = cv2.circle(img, (225,230), 15, [213,124,12], 5)\n",
    "\n",
    "img = cv2.rectangle(img , (550,150),(400,300),[0,255,60],5)\n",
    "img = cv2.rectangle(img , (440,190),(510,260),[0,255,0],5)\n",
    "img = cv2.circle(img, (475,230), 15, [213,124,12], 5)\n",
    "\n",
    "img = cv2.rectangle(img , (250,550),(450,500),[255,255,0],5)\n",
    "\n",
    "\n",
    "img = cv2.circle(img, (350,350), 55, [213,124,12], 5)\n",
    "img = cv2.circle(img, (350,350), 300, [213,124,12], 5)"
   ]
  },
  {
   "cell_type": "code",
   "execution_count": 4,
   "metadata": {},
   "outputs": [],
   "source": [
    "cv2.imshow(\"hii\" , img)\n",
    "cv2.waitKey()\n",
    "cv2.destroyAllWindows()"
   ]
  },
  {
   "cell_type": "code",
   "execution_count": null,
   "metadata": {},
   "outputs": [],
   "source": []
  },
  {
   "cell_type": "code",
   "execution_count": null,
   "metadata": {},
   "outputs": [],
   "source": []
  }
 ],
 "metadata": {
  "kernelspec": {
   "display_name": "Python 3",
   "language": "python",
   "name": "python3"
  },
  "language_info": {
   "codemirror_mode": {
    "name": "ipython",
    "version": 3
   },
   "file_extension": ".py",
   "mimetype": "text/x-python",
   "name": "python",
   "nbconvert_exporter": "python",
   "pygments_lexer": "ipython3",
   "version": "3.8.3"
  }
 },
 "nbformat": 4,
 "nbformat_minor": 4
}
